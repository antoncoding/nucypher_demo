{
 "cells": [
  {
   "cell_type": "markdown",
   "metadata": {},
   "source": [
    "# Nucypher CLI Charactor Demo\n",
    "* This is a demo code following official tutorial from https://www.youtube.com/watch?v=om0tew-Z4gE.\n",
    "* Some changes are made to fit the new version. (0.1.0-alpha2.2)\n",
    "\n",
    "## Installation\n",
    "```\n",
    "pip3 install nucypher\n",
    "```\n",
    "Or follow the installation guid on https://docs.nucypher.com/en/latest/guides/installation_guide.html"
   ]
  },
  {
   "cell_type": "code",
   "execution_count": 1,
   "metadata": {},
   "outputs": [],
   "source": [
    "from base64 import b64decode, b64encode\n",
    "import json\n",
    "import requests\n",
    "import maya # to build ISO format string\n",
    "import datetime"
   ]
  },
  {
   "cell_type": "markdown",
   "metadata": {},
   "source": [
    "## Run Ursula\n",
    "```\n",
    "nucypher ursula run --dev --federated-only\n",
    "```\n",
    "\n",
    "## Run Alice Node\n",
    "```shell\n",
    "nucypher alice run --dev --federated-only --teacher-uri localhost:10151\n",
    "```\n",
    "Paste the `Alice Verifying Key` in the following"
   ]
  },
  {
   "cell_type": "code",
   "execution_count": 2,
   "metadata": {},
   "outputs": [],
   "source": [
    "alice = \"http://127.0.0.1:8151\"\n",
    "alice_verifying_key = '02b7cd69017a5ce728074ac995793c0ac24b53fc22e0a552c3ed5d72b86274df3b'\n"
   ]
  },
  {
   "cell_type": "markdown",
   "metadata": {},
   "source": [
    "###  Get Policy Encrypting Key"
   ]
  },
  {
   "cell_type": "code",
   "execution_count": 3,
   "metadata": {},
   "outputs": [
    {
     "name": "stdout",
     "output_type": "stream",
     "text": [
      "Policy villa\tEncryption key:\t030a04a0754265051833bdd1beaacfc153068100b5050581d70d0de979aba38daf\n"
     ]
    }
   ],
   "source": [
    "label = 'villa'\n",
    "derivation_response = requests.post(\"{}/derive_policy_encrypting_key/{}\".format(alice, label))\n",
    "villa_key = json.loads(derivation_response.text)['result']['policy_encrypting_key']\n",
    "print('Policy {}\\tEncryption key:\\t{}'.format(label, villa_key))\n"
   ]
  },
  {
   "cell_type": "markdown",
   "metadata": {},
   "source": [
    "## Start Enrico Node\n",
    "Start Nucypher Enrico with the Policy Encryption Key.\n",
    "```\n",
    "ucypher enrico run --policy-encrypting-key 030a04a0754265051833bdd1beaacfc153068100b5050581d70d0de979aba38daf --http-port 5151\n",
    "```"
   ]
  },
  {
   "cell_type": "code",
   "execution_count": 4,
   "metadata": {},
   "outputs": [],
   "source": [
    "enrico = 'http://127.0.0.1:5151'"
   ]
  },
  {
   "cell_type": "code",
   "execution_count": 6,
   "metadata": {
    "scrolled": true
   },
   "outputs": [
    {
     "data": {
      "text/plain": [
       "{'message_kit': 'A3RCisAfCRdDQtCPVuHCi5/PzR4yYkrrAOqZdV8tLTLlAge+mtr2aIsSPqVYTz5mQUnO508Izy1i9zENB8VmOepJOhgwXN3qg45gTQkYlAXpyWKL9IeA6K9NZoa0OfQ33AID6/jWervG4G4lZlj4tx+VdzqREVRLvdsV7I87bAmtR8Mm8s081TYl+NwfD9/ayyl8menu4V3VqzKvpYezCsuxnw2Q00KQMMyBaCVeyZtqhD3IZGDpagQx7wBSdokUp3GWAgGn5BYIT5vfMUrmjoyxIxThb4KTnn5Cwv/HBJjY7E0AbExCJXolo10NoyIns4zLElxnuFTRmRrAwTma4n2d9G+S8807RDOgwQ66rVybwTHl5D4SEYnAKA==',\n",
       " 'signature': '2CxNeR9PD1B0bZvcc0ogy8vk0L09DDqrrzkKhWMCzGDT0p67AWT1AbCz4Hm0oR32/7GukG7maAKgmZaCROc+HQ=='}"
      ]
     },
     "execution_count": 6,
     "metadata": {},
     "output_type": "execute_result"
    }
   ],
   "source": [
    "my_message = b\"I love you! Let's Try out this Nucypher\" # It should be bytes\n",
    "encryption_request = { \"message\": b64encode(my_message).decode()}\n",
    "encryption_respone = requests.post(\"{}/encrypt_message\".format(enrico), data=json.dumps(encryption_request))\n",
    "encrypted_message = json.loads(encryption_respone.text)['result']\n",
    "encrypted_message"
   ]
  },
  {
   "cell_type": "markdown",
   "metadata": {},
   "source": [
    "## Start Bob \n",
    "\n",
    "```\n",
    "nucypher bob run --dev --federated-only --teacher-uri localhost:10151 --http-port 11151\n",
    "```\n",
    "\n",
    "Start Node Bob and past `bob_verifying_key` and `bob_encrypting_key` here."
   ]
  },
  {
   "cell_type": "code",
   "execution_count": 9,
   "metadata": {},
   "outputs": [],
   "source": [
    "bob = 'http://127.0.0.1:11151'\n",
    "bob_verifying_key = '024ce49fb4d7c96cbcad50e716b340054e3219a4b953f6b707736f8e405c8e6bf9'\n",
    "bob_encrypting_key = '03736e6fcc0f58c9df38c8009a7cd1bd9635ce75040f9a6860e784b8573f061da0'\n"
   ]
  },
  {
   "cell_type": "markdown",
   "metadata": {},
   "source": [
    "### Bob: Try Retrieve the Message before Alice Grant Access"
   ]
  },
  {
   "cell_type": "code",
   "execution_count": 10,
   "metadata": {},
   "outputs": [
    {
     "data": {
      "text/plain": [
       "<Response [500]>"
      ]
     },
     "execution_count": 10,
     "metadata": {},
     "output_type": "execute_result"
    }
   ],
   "source": [
    "retrieval = {}\n",
    "retrieval['label'] = label\n",
    "retrieval['policy_encrypting_key'] = villa_key\n",
    "retrieval['alice_verifying_key'] = alice_verifying_key\n",
    "retrieval['message_kit'] = encrypted_message['message_kit']\n",
    "\n",
    "retrieval_response = requests.post('{}/retrieve'.format(bob), json=retrieval)\n",
    "retrieval_response\n"
   ]
  },
  {
   "cell_type": "markdown",
   "metadata": {},
   "source": [
    "### Alice: Grant Access (of label Villa) to Bob"
   ]
  },
  {
   "cell_type": "code",
   "execution_count": 11,
   "metadata": {},
   "outputs": [
    {
     "name": "stdout",
     "output_type": "stream",
     "text": [
      "2019-06-12T09:49:53.144843Z\n",
      "Grant Access Call:\t200\n"
     ]
    }
   ],
   "source": [
    "expiration = (maya.now() + datetime.timedelta(days=3)).iso8601()\n",
    "print(expiration)\n",
    "# Grant Access to bob\n",
    "grant = {}\n",
    "grant['bob_verifying_key'] = bob_verifying_key # not on API Doc\n",
    "grant['bob_encrypting_key'] = bob_encrypting_key\n",
    "grant['expiration'] = expiration\n",
    "grant['label'] = label\n",
    "grant['m'] = 1\n",
    "grant['n'] = 1\n",
    "res = requests.put('{}/grant'.format(alice), json=grant)\n",
    "print('Grant Access Call:\\t{}'.format(res.status_code))\n",
    "grant_res = json.loads(res.text)['result']"
   ]
  },
  {
   "cell_type": "markdown",
   "metadata": {},
   "source": [
    "### Bob: Retrieve Data Again"
   ]
  },
  {
   "cell_type": "code",
   "execution_count": 12,
   "metadata": {},
   "outputs": [
    {
     "name": "stdout",
     "output_type": "stream",
     "text": [
      "<Response [200]>\n"
     ]
    }
   ],
   "source": [
    "retrieval_response = requests.post('{}/retrieve'.format(bob), json=retrieval)\n",
    "print(retrieval_response)"
   ]
  },
  {
   "cell_type": "code",
   "execution_count": 13,
   "metadata": {},
   "outputs": [
    {
     "name": "stdout",
     "output_type": "stream",
     "text": [
      "Decrypted Message = b\"I love you! Let's Try out this Nucypher\"\n"
     ]
    }
   ],
   "source": [
    "encoded_text = json.loads(retrieval_response.text)['result']['cleartexts']\n",
    "print('Decrypted Message = {}'.format(b64decode(encoded_text[0])))"
   ]
  },
  {
   "cell_type": "markdown",
   "metadata": {},
   "source": [
    "### Yay!\n",
    "We successfully Got the message from Bob's side!"
   ]
  }
 ],
 "metadata": {
  "kernelspec": {
   "display_name": "Python 3",
   "language": "python",
   "name": "python3"
  },
  "language_info": {
   "codemirror_mode": {
    "name": "ipython",
    "version": 3
   },
   "file_extension": ".py",
   "mimetype": "text/x-python",
   "name": "python",
   "nbconvert_exporter": "python",
   "pygments_lexer": "ipython3",
   "version": "3.7.3"
  }
 },
 "nbformat": 4,
 "nbformat_minor": 2
}
